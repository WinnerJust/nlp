{
  "cells": [
    {
      "cell_type": "markdown",
      "metadata": {
        "id": "RKboZnAdgrRM"
      },
      "source": [
        "# [NLP] Assignment 1: Tokenization\n",
        "\n",
        "In this assignment, you need to tokenize the text of the Twitter(X) users posts(tweets). The assignment consists of two tasks. When you finish all the tasks, create a GitHub repository for this assignment (you can use this repo later for the other assignments) and submit this notebook in the repository. Leave `requirements.txt` file if your code requires additional installations. Submit the link to the repository in Moodle.\n",
        "\n",
        "The [data](https://drive.google.com/file/d/15x_wPAflvYQ2Xh38iNQGrqUIWLj5l5Nw/view?usp=share_link) contains 5 files whereby each contains 44 tweets. Each tweet is separated by a newline."
      ]
    },
    {
      "cell_type": "markdown",
      "metadata": {
        "id": "aLDjjAvemUP_"
      },
      "source": [
        "## Task 1. Tokenize some tweets manually (20 points)\n",
        "\n",
        "As a first task you need to tokenize first 15 tweets from `file2` by hand. This will allow you to understand the problem from a linguistic point of view. The guidelines for tweet tokenization are as follows:\n",
        "\n",
        "- Each smiley is a separate token\n",
        "- Each hashtag is an individual token. Each user reference is an individual token\n",
        "- If a word has spaces between them then it is converted to a single token\n",
        "- All punctuations are individual tokens. This includes double-quotes and single quotes also\n",
        "- A URL is a single token\n",
        "\n",
        "Example of output\n",
        "\n",
        "    Input tweet\n",
        "    @xfranman Old age has made N A T O!\n",
        "\n",
        "    Tokenized tweet (separated by comma)\n",
        "    @xfranman , Old , age , has , made , NATO , !"
      ]
    },
    {
      "cell_type": "markdown",
      "metadata": {
        "id": "7KKKwTidnzUw"
      },
      "source": [
        "\n",
        "    1. Input tweet\n",
        "    Camping in Maine for the weekend. Hey Dad, Mama Loves YOU: http://www.mamapalooza.com\n",
        "    1. Tokenized tweet\n",
        "    Camping , in , Maine , for , the , weekend , . , Hey , Dad , , , Mama , Loves , YOU , : , http://www.mamapalooza.com\n",
        "\n",
        "    2. Input tweet\n",
        "    Its american tradition bitch\n",
        "    2. Tokenized tweet\n",
        "    Its , american , tradition , bitch\n",
        "\n",
        "    3. Input tweet\n",
        "    @ThroughTheVoid They love it! The only pleasure they get in life. I actually do that. I'm sure I hear a tiny squeak... Then louder ones\n",
        "    3. Tokenized tweet\n",
        "    @ThroughTheVoid , They , love , it , ! , The , only , pleasure , they , get , in , life , . , I , actually , do , that , . , I'm , sure , I , hear , a , tiny , squeak , ... , Then , louder , ones\n",
        "\n",
        "    4. Input tweet\n",
        "    \" RT @latti: @AbsoHilare stop tweeting in church! Lol <--- \"\"I tweet because I'm happy, I tweet because I'm free\"\" LOL!\"\n",
        "\n",
        "    4. Tokenized tweet\n",
        "    \" , RT , @latti , : , @AbsoHilare , stop , tweeting , in , church , ! , Lol , < , - , - , - , \" , \" , I , tweet , because , I'm , happy , , , I , tweet , because , I'm , free , \" , \" , LOL , ! , \"\n",
        "\n",
        "    5. Input tweet\n",
        "    Samsung Mini S2 portable HDD graced with colors that perfectly match your tacky beach gear: Sammy's done it aga.. http://tinyurl.com/lb5p6m\n",
        "    5. Tokenized tweet\n",
        "    Samsung , Mini , S2 , portable , HDD , graced , with , colors , that , perfectly , match , your , tacky , beach , gear , : , Sammy's , done , it , aga , . , . , http://tinyurl.com/lb5p6m\n",
        "\n",
        "    6. Input tweet\n",
        "    @dialloc congrats on finding your way over. it may be slow going at first. hang in there. it's kinda cool when u get up to speed.\n",
        "    6. Tokenized tweet\n",
        "    @dialloc , congrats , on , finding , your , way , over , . , it , may , be , slow , going , at , first , . , hang , in , there , . , it's , kinda , cool , when , u , get , up , to , speed , .\n",
        "\n",
        "    7. Input tweet\n",
        "    iPhone activation delays continue, Apple offers $30 http://twt.gs/l3Ki\n",
        "    7. Tokenized tweet\n",
        "    iPhone , activation , delays , continue , , , Apple , offers , $ , 30 , http://twt.gs/l3Ki\n",
        "\n",
        "    8. Input tweet\n",
        "    RT @GoogleAtWork Gmail maximum attachment size now 25MB http://bit.ly/62mjw Nice!!!\n",
        "    8. Tokenized tweet\n",
        "    RT , @GoogleAtWork , Gmail , maximum , attachment , size , now , 25MB , http://bit.ly/62mjw , Nice , ! , ! , !\n",
        "\n",
        "    9. Input tweet\n",
        "    RT @acfou The Ads Won Awards for Crispin; But Did Nothing for Client BurgerKing's Sales/Marketshare - Big Surprise - http://ping.fm/vw8TI\n",
        "    9. Tokenized tweet\n",
        "    RT , @acfou , The , Ads , Won , Awards , for , Crispin , ; , But , Did , Nothing , for , Client , BurgerKing's , Sales , / , Marketshare , - , Big , Surprise , - , http://ping.fm/vw8TI\n",
        "\n",
        "    10. Input tweet\n",
        "    Hey doll! Great I missed True Blood yday boo lol Rt @FrankBanuat78 @jhillstephens Hello Sunshine how are u today? :-)\n",
        "    10. Tokenized tweet\n",
        "    Hey , doll , ! , Great , I , missed , True , Blood , yday , boo , lol , Rt , @FrankBanuat78 , @jhillstephens , Hello , Sunshine , how , are , u , today , ? , :-)\n",
        "\n",
        "    11. Input tweet\n",
        "    Australian artist Pogo made these free songs primarily from sampled audio from Alice In Wonderland. http://www.last.fm/music/Pogo/Wonderland\n",
        "    11. Tokenized tweet\n",
        "    Australian , artist , Pogo , made , these , free , songs , primarily , from , sampled , audio , from , Alice , In , Wonderland , . , http://www.last.fm/music/Pogo/Wonderland\n",
        "\n",
        "    12. Input tweet\n",
        "    @mppritchard they wanted to sell all the preorders & then sell all of the ones they had in stock to those that just walked in. Can't do both\n",
        "    12. Tokenized tweet\n",
        "    @mppritchard , they , wanted , to , sell , all , the , preorders , & , then , sell , all , of , the , ones , they , had , in , stock , to , those , that , just , walked , in , . , Can't , do , both\n",
        "\n",
        "    13. Input tweet\n",
        "    Incoming: Frightened Rabbit, Sept. 22 (Tucson): If Fat Cat Records is going to send three great bands from Scot.. http://tinyurl.com/nz6xcv\n",
        "    13. Tokenized tweet\n",
        "    Incoming , : , Frightened , Rabbit , , , Sept , . , 22 , ( , Tucson , ) , : , If , Fat , Cat , Records , is , going , to , send , three , great , bands , from , Scot , . , . , http://tinyurl.com/nz6xcv\n",
        "\n",
        "    14. Input tweet\n",
        "    Hey @ginoandfran please greet philip! (GinoandFran live > http://ustre.am/2YyQ)\n",
        "    14. Tokenized tweet\n",
        "    Hey , @ginoandfran , please , greet , philip , ! , ( , GinoandFran , live , > , http://ustre.am/2YyQ , )\n",
        "\n",
        "    15. Input tweet\n",
        "    Ik weet niet wie er achter de T-Mobile iPhone Twitter zit maar ik vind het niet echt 'corporate' taalgebruik... Best vreemd eigenlijk\n",
        "    15. Tokenized tweet\n",
        "    Ik , weet , niet , wie , er , achter , de , T-Mobile , iPhone , Twitter , zit , maar , ik , vind , het , niet , echt , ' , corporate , ' , taalgebruik , ... , Best , vreemd , eigenlijk\n"
      ]
    },
    {
      "cell_type": "markdown",
      "metadata": {
        "id": "-2J2AD2nmUhi"
      },
      "source": [
        "## Task 2. Implement [Byte-Pair Encoding(BPE)](https://arxiv.org/pdf/1508.07909.pdf) Tokenizer (80 points)\n",
        "\n",
        "### Task 2.1. Implementation (60 points)\n",
        "\n",
        "Implement the tokenizer as the BPETokenizer class:\n",
        "* Implement `train` method that learns merges and builds the vocabulary of the specified `vocab_size` (25 points).\n",
        "* Implement `tokenize` method that should tokenize the text according to the learnt merges (25 points).\n",
        "\n",
        "Your code should have docstrings and comments (10 points)."
      ]
    },
    {
      "cell_type": "code",
      "execution_count": 227,
      "metadata": {
        "id": "EtQ11NE0WBRl"
      },
      "outputs": [],
      "source": [
        "from typing import List\n",
        "import re, collections\n",
        "\n",
        "class BPETokenizer:\n",
        "\n",
        "    def __init__(self, vocab_size: int) -> None:\n",
        "        self.vocab_size = vocab_size\n",
        "        self.initial_vocab_size = 0\n",
        "        self.corpus = {}\n",
        "        self.vocab = []\n",
        "\n",
        "    def _get_stats(self, corpus):\n",
        "      \"\"\"\n",
        "      This function counts number of occurrences for every pair of adjacent letters in corpus\n",
        "\n",
        "      Parameters:\n",
        "      corpus (dict): self.corpus\n",
        "\n",
        "      Returns:\n",
        "      dict: Dict of all pairs of adjacent letters with their number of occurrences\n",
        "      \"\"\"\n",
        "\n",
        "      pairs = collections.defaultdict(int)\n",
        "      for word, freq in corpus.items():\n",
        "        symbols = word.split()\n",
        "        for i in range(len(symbols) - 1):\n",
        "          pairs[symbols[i], symbols[i + 1]] += freq\n",
        "      return pairs\n",
        "\n",
        "\n",
        "\n",
        "    def _merge_corpus(self, pair, c_in):\n",
        "      \"\"\"\n",
        "      This function merges all occurrences of a pair in corpus\n",
        "\n",
        "      Parameters:\n",
        "      pair (tuple): Pair to be merged\n",
        "      c_in (dict): self.corpus\n",
        "\n",
        "      Returns:\n",
        "      dict: Updated corpus\n",
        "      \"\"\"\n",
        "\n",
        "      c_out = {}\n",
        "      bigram = re.escape(' ' .join(pair))\n",
        "      p = re.compile(r'(?<!\\S)' + bigram + r'(?!\\S)')\n",
        "      for word in c_in:\n",
        "        w_out = p.sub(''.join(pair), word)\n",
        "        c_out[w_out] = c_in[word]\n",
        "      return c_out\n",
        "\n",
        "\n",
        "\n",
        "    def train(self, corpus: List[str]) -> None:\n",
        "      \"\"\"\n",
        "      This function does the training process\n",
        "\n",
        "      Parameters:\n",
        "      corpus (List[str]): List of words\n",
        "\n",
        "      Returns:\n",
        "      None\n",
        "      \"\"\"\n",
        "\n",
        "      for word in corpus:\n",
        "        #Preparing corpus dictionary\n",
        "        #Keys: words whose characters are separated by spaces\n",
        "        #Values: words' frequencies\n",
        "        new_word = \" \".join(word) + ' </w>'\n",
        "        if new_word in self.corpus:\n",
        "          self.corpus[new_word] += 1\n",
        "        else:\n",
        "          self.corpus[new_word] = 1\n",
        "\n",
        "        #Filling the vocab\n",
        "        for char in word:\n",
        "          if char not in self.vocab:\n",
        "            self.vocab.append(char)\n",
        "\n",
        "\n",
        "      self.initial_vocab_size = len(self.vocab)\n",
        "      print(\"Initial vocab size:\", self.initial_vocab_size)\n",
        "\n",
        "      #Now we do the actual training\n",
        "      while self.vocab_size > len(self.vocab):\n",
        "        pairs = self._get_stats(self.corpus)\n",
        "\n",
        "        best = max(pairs, key=pairs.get)\n",
        "        self.vocab.append(best)\n",
        "\n",
        "        self.corpus = self._merge_corpus(best, self.corpus)\n",
        "\n",
        "        if len(self.vocab) % 50 == 0:\n",
        "          print(best)\n",
        "          print(\"Current vocab size:\", len(self.vocab))\n",
        "\n",
        "\n",
        "\n",
        "    def tokenize(self, text: str) -> List[str]:\n",
        "      \"\"\"\n",
        "      This function does the tokenizing\n",
        "\n",
        "      Parameters:\n",
        "      text (str): String to be tokenized\n",
        "\n",
        "      Returns:\n",
        "      List[str]: List of tokens\n",
        "      \"\"\"\n",
        "\n",
        "      text = preprocess(text)\n",
        "\n",
        "      new_text = ''\n",
        "      for word in text:\n",
        "        new_text += \" \".join(word) + ' </w> '\n",
        "\n",
        "      #The same logic as in _merge_corpus\n",
        "      #But we start from self.vocab[self.initial_vocab_size]\n",
        "      #This is where elements in vocab start to have more than one character\n",
        "      for i in range(self.initial_vocab_size, len(self.vocab)):\n",
        "        pair = self.vocab[i]\n",
        "        bigram = re.escape(' ' .join(pair))\n",
        "        p = re.compile(r'(?<!\\S)' + bigram + r'(?!\\S)')\n",
        "\n",
        "        new_text = p.sub(''.join(pair), new_text)\n",
        "\n",
        "      new_text = new_text.replace(\"</w>\", \"\")\n",
        "\n",
        "      return new_text[:-1].split(\" \")\n"
      ]
    },
    {
      "cell_type": "code",
      "source": [
        "def preprocess(text):\n",
        "  #Lower words so that we do not treat the same words as different\n",
        "  text = text.lower()\n",
        "\n",
        "  #Do the smart tokenizing\n",
        "  #This does exactly the same as in the task 1\n",
        "  pattern = r\"(?:@[\\w_]+)|(?:#+[\\w_]+)|(?:(?:http|https)?://\\S+)|(?:[^\\w\\s])|(?:&quot;.*?&quot;)|(?:'\\S*')|(?:\\b\\w+\\b)\"\n",
        "\n",
        "  return re.findall(pattern, text)\n",
        "\n",
        "#Example\n",
        "print(preprocess(\"Hello!!! How are you? #hashtag for @user: https://example-link.com\"))"
      ],
      "metadata": {
        "colab": {
          "base_uri": "https://localhost:8080/"
        },
        "id": "BuVKUC4ClM0e",
        "outputId": "80816ebe-3f3f-4641-801d-9e6a5624cdb8"
      },
      "execution_count": 228,
      "outputs": [
        {
          "output_type": "stream",
          "name": "stdout",
          "text": [
            "['hello', '!', '!', '!', 'how', 'are', 'you', '?', '#hashtag', 'for', '@user', ':', 'https://example-link.com']\n"
          ]
        }
      ]
    },
    {
      "cell_type": "markdown",
      "metadata": {
        "id": "_jWFd_UUWBRl"
      },
      "source": [
        "### Task 2.2. Analysis on Tweets Dataset (10 points)\n",
        "\n",
        "Train the BPE tokenizer on the tweets dataset. Try to tokenize the tweets with the tokenizer of different `vocab_size`. For example, train the BPE tokenizer with `vocab_size` of [base_vocab_size, 250, 500, 750, 1000]. Plot the dependency of the average length of the tokenized tweet by `vocab_size` to analyze how `vocab_size` affects the length of the tokenized tweet on average. Tell what `vocab_size` is preferrable and why."
      ]
    },
    {
      "cell_type": "code",
      "source": [
        "!gdown 15x_wPAflvYQ2Xh38iNQGrqUIWLj5l5Nw"
      ],
      "metadata": {
        "colab": {
          "base_uri": "https://localhost:8080/"
        },
        "id": "5seYtvbO9pvm",
        "outputId": "747dbf37-6ef8-491d-9dd8-d814132e3977"
      },
      "execution_count": 229,
      "outputs": [
        {
          "output_type": "stream",
          "name": "stdout",
          "text": [
            "Failed to retrieve file url:\n",
            "\n",
            "\tToo many users have viewed or downloaded this file recently. Please\n",
            "\ttry accessing the file again later. If the file you are trying to\n",
            "\taccess is particularly large or is shared with many people, it may\n",
            "\ttake up to 24 hours to be able to view or download the file. If you\n",
            "\tstill can't access a file after 24 hours, contact your domain\n",
            "\tadministrator.\n",
            "\n",
            "You may still be able to access the file from the browser:\n",
            "\n",
            "\thttps://drive.google.com/uc?id=15x_wPAflvYQ2Xh38iNQGrqUIWLj5l5Nw\n",
            "\n",
            "but Gdown can't. Please check connections and permissions.\n"
          ]
        }
      ]
    },
    {
      "cell_type": "code",
      "source": [
        "!unzip -o Assignment1_data.zip"
      ],
      "metadata": {
        "colab": {
          "base_uri": "https://localhost:8080/"
        },
        "id": "Vp0ud4AM9v35",
        "outputId": "528e2ef0-bd76-4d25-c50e-90bfd0f7afa7"
      },
      "execution_count": 230,
      "outputs": [
        {
          "output_type": "stream",
          "name": "stdout",
          "text": [
            "Archive:  Assignment1_data.zip\n",
            "  inflating: file5                   \n",
            "  inflating: __MACOSX/._file5        \n",
            "  inflating: file4                   \n",
            "  inflating: __MACOSX/._file4        \n",
            "  inflating: file3                   \n",
            "  inflating: __MACOSX/._file3        \n",
            "  inflating: file2                   \n",
            "  inflating: __MACOSX/._file2        \n",
            "  inflating: file1                   \n",
            "  inflating: __MACOSX/._file1        \n"
          ]
        }
      ]
    },
    {
      "cell_type": "code",
      "execution_count": 231,
      "metadata": {
        "colab": {
          "base_uri": "https://localhost:8080/"
        },
        "id": "Vxaa_G3WWBRl",
        "outputId": "e3e0c332-4489-4991-a53f-c9e9ab8089f4"
      },
      "outputs": [
        {
          "output_type": "execute_result",
          "data": {
            "text/plain": [
              "['@anitapuspasari waduh..\\n',\n",
              " '\" Could journos please stop putting the word \"\"gate\"\" after everything they write... gate.\"\\n',\n",
              " \"20% More Ridiculous Sale @20x200 ends tonight! - get 20% off by entering 'RIDONK' at checkout. More info: http://bit.ly/ridonktues\\n\",\n",
              " \"@Studio85 I have a pair of those shoes. They are comfy. Like being barefoot. Okay for running, but not on concrete, as I've discovered.\\n\",\n",
              " 'RT @twilightus Team Carlisle is a Trending Topic- help him out RT Follow @peterfacinelli see a grown man n a bikini dance Hollywood Blvd\\n',\n",
              " '@karenrubin you might have to reinstall - that happened to me a few months ago, now I use Nambu on my Mac\\n',\n",
              " 'Just Posted: Redneck Dragon - Part XXVIII (http://cli.gs/gWy0yT)\\n',\n",
              " '\" \"\"Paul McCartney ... went through all his education there and nobody thought he had any musical talent,\"\" http://tinyurl.com/nkdbdq\"\\n',\n",
              " '@ambienteer Yeah, pretty much how i feel about it.\\n',\n",
              " '@florianseroussi Nothing really noticeable? Are you kidding?\\n']"
            ]
          },
          "metadata": {},
          "execution_count": 231
        }
      ],
      "source": [
        "#Loading tweets from all files into one array\n",
        "\n",
        "tweets = []\n",
        "\n",
        "for i in range(1, 6):\n",
        "    filename = f\"file{i}\"\n",
        "    with open(filename, 'r') as file:\n",
        "        file_contents = file.readlines()\n",
        "        tweets.extend(file_contents)\n",
        "\n",
        "tweets[:10]"
      ]
    },
    {
      "cell_type": "code",
      "source": [
        "#Concatenating all tweets and preprocessing to load into BPE Tokenizer\n",
        "\n",
        "corpus = preprocess(' '.join(tweet.rstrip('\\n') for tweet in tweets))\n",
        "\n",
        "print(corpus[:50])"
      ],
      "metadata": {
        "colab": {
          "base_uri": "https://localhost:8080/"
        },
        "id": "pPc-1Jdu_wNU",
        "outputId": "d018498f-3b3e-4e00-db9b-5a4f41172280"
      },
      "execution_count": 232,
      "outputs": [
        {
          "output_type": "stream",
          "name": "stdout",
          "text": [
            "['@anitapuspasari', 'waduh', '.', '.', '\"', 'could', 'journos', 'please', 'stop', 'putting', 'the', 'word', '\"', '\"', 'gate', '\"', '\"', 'after', 'everything', 'they', 'write', '.', '.', '.', 'gate', '.', '\"', '20', '%', 'more', 'ridiculous', 'sale', '@20x200', 'ends', 'tonight', '!', '-', 'get', '20', '%', 'off', 'by', 'entering', \"'\", 'ridonk', \"'\", 'at', 'checkout', '.', 'more']\n"
          ]
        }
      ]
    },
    {
      "cell_type": "code",
      "source": [
        "tokenizer = BPETokenizer(1000)\n",
        "\n",
        "tokenizer.train(corpus)"
      ],
      "metadata": {
        "colab": {
          "base_uri": "https://localhost:8080/"
        },
        "id": "01OSiiakGPsl",
        "outputId": "2a87407d-872a-4f48-e9b4-256cfc9c8a7e"
      },
      "execution_count": 233,
      "outputs": [
        {
          "output_type": "stream",
          "name": "stdout",
          "text": [
            "Initial vocab size: 138\n",
            "('o', 'u')\n",
            "Current vocab size: 150\n",
            "('in', '</w>')\n",
            "Current vocab size: 200\n",
            "('a', 'y</w>')\n",
            "Current vocab size: 250\n",
            "('http://tin', 'yur')\n",
            "Current vocab size: 300\n",
            "('tt', 'er</w>')\n",
            "Current vocab size: 350\n",
            "('7', '</w>')\n",
            "Current vocab size: 400\n",
            "('h', 'i')\n",
            "Current vocab size: 450\n",
            "('ab', 'out</w>')\n",
            "Current vocab size: 500\n",
            "('s', 'pe')\n",
            "Current vocab size: 550\n",
            "('c', 'u')\n",
            "Current vocab size: 600\n",
            "('1', '4')\n",
            "Current vocab size: 650\n",
            "('ne', 'w</w>')\n",
            "Current vocab size: 700\n",
            "('ab', 'le</w>')\n",
            "Current vocab size: 750\n",
            "('ack', 'ber')\n",
            "Current vocab size: 800\n",
            "('s', 'ur')\n",
            "Current vocab size: 850\n",
            "('le', 'm')\n",
            "Current vocab size: 900\n",
            "('n', 'or')\n",
            "Current vocab size: 950\n",
            "('j', 'post')\n",
            "Current vocab size: 1000\n"
          ]
        }
      ]
    },
    {
      "cell_type": "code",
      "source": [
        "#Tokenization example\n",
        "\n",
        "print(tokenizer.tokenize(tweets[1].rstrip('\\n')))"
      ],
      "metadata": {
        "colab": {
          "base_uri": "https://localhost:8080/"
        },
        "id": "P9gvtdNzMXn6",
        "outputId": "27301af2-b441-4780-e0e3-7c1d67f979e8"
      },
      "execution_count": 234,
      "outputs": [
        {
          "output_type": "stream",
          "name": "stdout",
          "text": [
            "['\"', 'c', 'ould', 'j', 'our', 'no', 's', 'please', 'stop', 'putting', 'the', 'wor', 'd', '\"', '\"', 'gate', '\"', '\"', 'after', 'every', 'thing', 'they', 'wr', 'ite', '.', '.', '.', 'gate', '.', '\"']\n"
          ]
        }
      ]
    },
    {
      "cell_type": "code",
      "source": [
        "import matplotlib.pyplot as plt\n",
        "\n",
        "x = [138, 250, 500, 750, 1000]\n",
        "y = []\n",
        "\n",
        "for vocab_size in x:\n",
        "  tokenizer = BPETokenizer(vocab_size)\n",
        "  tokenizer.train(corpus)\n",
        "\n",
        "  lens = []\n",
        "  for tweet in tweets:\n",
        "    tokens = tokenizer.tokenize(tweet.rstrip('\\n'))\n",
        "    lens.append(len(tokens))\n",
        "\n",
        "  y.append(sum(lens) / len(lens))"
      ],
      "metadata": {
        "colab": {
          "base_uri": "https://localhost:8080/"
        },
        "id": "uGPtzgf6q1a4",
        "outputId": "3778876a-85e5-43c0-bad4-db434de6acf7"
      },
      "execution_count": 235,
      "outputs": [
        {
          "output_type": "stream",
          "name": "stdout",
          "text": [
            "Initial vocab size: 138\n",
            "Initial vocab size: 138\n",
            "('o', 'u')\n",
            "Current vocab size: 150\n",
            "('in', '</w>')\n",
            "Current vocab size: 200\n",
            "('a', 'y</w>')\n",
            "Current vocab size: 250\n",
            "Initial vocab size: 138\n",
            "('o', 'u')\n",
            "Current vocab size: 150\n",
            "('in', '</w>')\n",
            "Current vocab size: 200\n",
            "('a', 'y</w>')\n",
            "Current vocab size: 250\n",
            "('http://tin', 'yur')\n",
            "Current vocab size: 300\n",
            "('tt', 'er</w>')\n",
            "Current vocab size: 350\n",
            "('7', '</w>')\n",
            "Current vocab size: 400\n",
            "('h', 'i')\n",
            "Current vocab size: 450\n",
            "('ab', 'out</w>')\n",
            "Current vocab size: 500\n",
            "Initial vocab size: 138\n",
            "('o', 'u')\n",
            "Current vocab size: 150\n",
            "('in', '</w>')\n",
            "Current vocab size: 200\n",
            "('a', 'y</w>')\n",
            "Current vocab size: 250\n",
            "('http://tin', 'yur')\n",
            "Current vocab size: 300\n",
            "('tt', 'er</w>')\n",
            "Current vocab size: 350\n",
            "('7', '</w>')\n",
            "Current vocab size: 400\n",
            "('h', 'i')\n",
            "Current vocab size: 450\n",
            "('ab', 'out</w>')\n",
            "Current vocab size: 500\n",
            "('s', 'pe')\n",
            "Current vocab size: 550\n",
            "('c', 'u')\n",
            "Current vocab size: 600\n",
            "('1', '4')\n",
            "Current vocab size: 650\n",
            "('ne', 'w</w>')\n",
            "Current vocab size: 700\n",
            "('ab', 'le</w>')\n",
            "Current vocab size: 750\n",
            "Initial vocab size: 138\n",
            "('o', 'u')\n",
            "Current vocab size: 150\n",
            "('in', '</w>')\n",
            "Current vocab size: 200\n",
            "('a', 'y</w>')\n",
            "Current vocab size: 250\n",
            "('http://tin', 'yur')\n",
            "Current vocab size: 300\n",
            "('tt', 'er</w>')\n",
            "Current vocab size: 350\n",
            "('7', '</w>')\n",
            "Current vocab size: 400\n",
            "('h', 'i')\n",
            "Current vocab size: 450\n",
            "('ab', 'out</w>')\n",
            "Current vocab size: 500\n",
            "('s', 'pe')\n",
            "Current vocab size: 550\n",
            "('c', 'u')\n",
            "Current vocab size: 600\n",
            "('1', '4')\n",
            "Current vocab size: 650\n",
            "('ne', 'w</w>')\n",
            "Current vocab size: 700\n",
            "('ab', 'le</w>')\n",
            "Current vocab size: 750\n",
            "('ack', 'ber')\n",
            "Current vocab size: 800\n",
            "('s', 'ur')\n",
            "Current vocab size: 850\n",
            "('le', 'm')\n",
            "Current vocab size: 900\n",
            "('n', 'or')\n",
            "Current vocab size: 950\n",
            "('j', 'post')\n",
            "Current vocab size: 1000\n"
          ]
        }
      ]
    },
    {
      "cell_type": "code",
      "source": [
        "plt.plot(x, y, marker='o', linestyle='-')\n",
        "\n",
        "plt.xlabel('X')\n",
        "plt.ylabel('Y')\n",
        "plt.title('Plot of X and Y Points')\n",
        "\n",
        "plt.show()"
      ],
      "metadata": {
        "colab": {
          "base_uri": "https://localhost:8080/",
          "height": 472
        },
        "id": "K4s5es6B9_AL",
        "outputId": "4916f89a-7287-4d6e-97ad-b16b7138d099"
      },
      "execution_count": 236,
      "outputs": [
        {
          "output_type": "display_data",
          "data": {
            "text/plain": [
              "<Figure size 640x480 with 1 Axes>"
            ],
            "image/png": "[encoded data removed]"
          },
          "metadata": {}
        }
      ]
    },
    {
      "cell_type": "markdown",
      "metadata": {
        "id": "wHRCJizjWBRl"
      },
      "source": [
        "### Task 2.3. Analysis on Dataset of Different Language (10 points)\n",
        "\n",
        "Find a small dataset of texts in a language other than English. The dataset size should be not greater than several megabytes.\n",
        "\n",
        "Train the BPE tokenizer on the dataset that you found. Try to tokenize the sentences from this dataset with the tokenizer of different `vocab_size`. Plot the dependency of the average length of the tokenized sentence by `vocab_size` to analyze how `vocab_size` affects the length of the tokenized sentence on average.\n",
        "\n",
        "Tell how how the average length of the tokenized sentence differs from the average length of the tokenized tweet. Explain why."
      ]
    },
    {
      "cell_type": "code",
      "execution_count": 237,
      "metadata": {
        "colab": {
          "base_uri": "https://localhost:8080/"
        },
        "id": "iT5qRJ4PWBRm",
        "outputId": "e56187e6-3827-4dde-8f46-2901266e3522"
      },
      "outputs": [
        {
          "output_type": "stream",
          "name": "stdout",
          "text": [
            "Failed to retrieve file url:\n",
            "\n",
            "\tToo many users have viewed or downloaded this file recently. Please\n",
            "\ttry accessing the file again later. If the file you are trying to\n",
            "\taccess is particularly large or is shared with many people, it may\n",
            "\ttake up to 24 hours to be able to view or download the file. If you\n",
            "\tstill can't access a file after 24 hours, contact your domain\n",
            "\tadministrator.\n",
            "\n",
            "You may still be able to access the file from the browser:\n",
            "\n",
            "\thttps://drive.google.com/uc?id=1IHLyvvO8NwzrJHaw9JYb7CR3kYVU2jjl\n",
            "\n",
            "but Gdown can't. Please check connections and permissions.\n"
          ]
        }
      ],
      "source": [
        "!gdown 1IHLyvvO8NwzrJHaw9JYb7CR3kYVU2jjl"
      ]
    },
    {
      "cell_type": "code",
      "source": [
        "#Loading text in Russian language\n",
        "\n",
        "text = []\n",
        "\n",
        "with open(\"dialogues.txt\", 'r') as f:\n",
        "  lines = f.readlines()\n",
        "  text = [line.strip()[2:] for line in lines if line.strip()]\n",
        "\n",
        "print(\"Lines in the Russian dataset:\", len(text))\n",
        "print(\"Lines in the tweets dataset:\", len(tweets))\n",
        "\n",
        "#We try cut the Russian dataset to be comparable to the tweets dadtaset\n",
        "text = text[:len(tweets) * 3]\n",
        "\n",
        "text[:10]"
      ],
      "metadata": {
        "colab": {
          "base_uri": "https://localhost:8080/"
        },
        "id": "majK8FugvHfD",
        "outputId": "cfe66e86-aa48-482b-8866-ffae33e6962d"
      },
      "execution_count": 238,
      "outputs": [
        {
          "output_type": "stream",
          "name": "stdout",
          "text": [
            "Lines in the Russian dataset: 4216\n",
            "Lines in the tweets dataset: 220\n"
          ]
        },
        {
          "output_type": "execute_result",
          "data": {
            "text/plain": [
              "['Как водичка ?',\n",
              " 'А я здесь как женшина сижу, а не как термометр.',\n",
              " 'Я затрудняюсь поставить вам диагноз ... Наверное, это алкоголизм.',\n",
              " 'Хорошо, доктор. Я приду, когда Вы будете трезвым.',\n",
              " 'Что такое дефицит в маркистском понимании?',\n",
              " 'Это объективная реальность, не данная нам в ощущениях.',\n",
              " 'Это вы в идеалистическом понимании, а в практическом?',\n",
              " 'Объективная реальность данная в ощущениях, но не нам.',\n",
              " 'Можно у вас срочно отремонтировать часы?',\n",
              " 'Нет']"
            ]
          },
          "metadata": {},
          "execution_count": 238
        }
      ]
    },
    {
      "cell_type": "code",
      "source": [
        "#Concatenating all lines and preprocessing to load into BPE Tokenizer\n",
        "\n",
        "corpus_russian = preprocess(' '.join(line.rstrip('\\n') for line in text))\n",
        "\n",
        "print(corpus_russian[:50])"
      ],
      "metadata": {
        "colab": {
          "base_uri": "https://localhost:8080/"
        },
        "id": "A-HapblSv45T",
        "outputId": "11573d2c-7ca4-4dc6-95f7-9840a5a21bde"
      },
      "execution_count": 239,
      "outputs": [
        {
          "output_type": "stream",
          "name": "stdout",
          "text": [
            "['как', 'водичка', '?', 'а', 'я', 'здесь', 'как', 'женшина', 'сижу', ',', 'а', 'не', 'как', 'термометр', '.', 'я', 'затрудняюсь', 'поставить', 'вам', 'диагноз', '.', '.', '.', 'наверное', ',', 'это', 'алкоголизм', '.', 'хорошо', ',', 'доктор', '.', 'я', 'приду', ',', 'когда', 'вы', 'будете', 'трезвым', '.', 'что', 'такое', 'дефицит', 'в', 'маркистском', 'понимании', '?', 'это', 'объективная', 'реальность']\n"
          ]
        }
      ]
    },
    {
      "cell_type": "code",
      "source": [
        "x = [48, 250, 500, 750, 1000]\n",
        "y = []\n",
        "\n",
        "for vocab_size in x:\n",
        "  tokenizer = BPETokenizer(vocab_size)\n",
        "  tokenizer.train(corpus_russian)\n",
        "\n",
        "  lens = []\n",
        "  for line in text:\n",
        "    tokens = tokenizer.tokenize(line.rstrip('\\n'))\n",
        "    lens.append(len(tokens))\n",
        "\n",
        "  y.append(sum(lens) / len(lens))"
      ],
      "metadata": {
        "colab": {
          "base_uri": "https://localhost:8080/"
        },
        "id": "_8pCwonOwHIb",
        "outputId": "e54fcb21-b762-42da-dddd-ef0915beeb6b"
      },
      "execution_count": 240,
      "outputs": [
        {
          "output_type": "stream",
          "name": "stdout",
          "text": [
            "Initial vocab size: 48\n",
            "Initial vocab size: 48\n",
            "('а', '</w>')\n",
            "Current vocab size: 50\n",
            "('м', 'о')\n",
            "Current vocab size: 100\n",
            "('б', 'ы')\n",
            "Current vocab size: 150\n",
            "('кто', 'р</w>')\n",
            "Current vocab size: 200\n",
            "('о', 'й</w>')\n",
            "Current vocab size: 250\n",
            "Initial vocab size: 48\n",
            "('а', '</w>')\n",
            "Current vocab size: 50\n",
            "('м', 'о')\n",
            "Current vocab size: 100\n",
            "('б', 'ы')\n",
            "Current vocab size: 150\n",
            "('кто', 'р</w>')\n",
            "Current vocab size: 200\n",
            "('о', 'й</w>')\n",
            "Current vocab size: 250\n",
            "('у', 'же</w>')\n",
            "Current vocab size: 300\n",
            "('тр', 'и</w>')\n",
            "Current vocab size: 350\n",
            "('од', 'но')\n",
            "Current vocab size: 400\n",
            "('не', 'е</w>')\n",
            "Current vocab size: 450\n",
            "('бо', 'ль')\n",
            "Current vocab size: 500\n",
            "Initial vocab size: 48\n",
            "('а', '</w>')\n",
            "Current vocab size: 50\n",
            "('м', 'о')\n",
            "Current vocab size: 100\n",
            "('б', 'ы')\n",
            "Current vocab size: 150\n",
            "('кто', 'р</w>')\n",
            "Current vocab size: 200\n",
            "('о', 'й</w>')\n",
            "Current vocab size: 250\n",
            "('у', 'же</w>')\n",
            "Current vocab size: 300\n",
            "('тр', 'и</w>')\n",
            "Current vocab size: 350\n",
            "('од', 'но')\n",
            "Current vocab size: 400\n",
            "('не', 'е</w>')\n",
            "Current vocab size: 450\n",
            "('бо', 'ль')\n",
            "Current vocab size: 500\n",
            "('с', 'ы')\n",
            "Current vocab size: 550\n",
            "('у', 'вер')\n",
            "Current vocab size: 600\n",
            "('б', 'ил</w>')\n",
            "Current vocab size: 650\n",
            "('ли', 'т</w>')\n",
            "Current vocab size: 700\n",
            "('ду', 'ма')\n",
            "Current vocab size: 750\n",
            "Initial vocab size: 48\n",
            "('а', '</w>')\n",
            "Current vocab size: 50\n",
            "('м', 'о')\n",
            "Current vocab size: 100\n",
            "('б', 'ы')\n",
            "Current vocab size: 150\n",
            "('кто', 'р</w>')\n",
            "Current vocab size: 200\n",
            "('о', 'й</w>')\n",
            "Current vocab size: 250\n",
            "('у', 'же</w>')\n",
            "Current vocab size: 300\n",
            "('тр', 'и</w>')\n",
            "Current vocab size: 350\n",
            "('од', 'но')\n",
            "Current vocab size: 400\n",
            "('не', 'е</w>')\n",
            "Current vocab size: 450\n",
            "('бо', 'ль')\n",
            "Current vocab size: 500\n",
            "('с', 'ы')\n",
            "Current vocab size: 550\n",
            "('у', 'вер')\n",
            "Current vocab size: 600\n",
            "('б', 'ил</w>')\n",
            "Current vocab size: 650\n",
            "('ли', 'т</w>')\n",
            "Current vocab size: 700\n",
            "('ду', 'ма')\n",
            "Current vocab size: 750\n",
            "('не', 'й</w>')\n",
            "Current vocab size: 800\n",
            "('ощущени', 'ях</w>')\n",
            "Current vocab size: 850\n",
            "('еж', 'ел')\n",
            "Current vocab size: 900\n",
            "('вы', 'йди</w>')\n",
            "Current vocab size: 950\n",
            "('п', 'ят')\n",
            "Current vocab size: 1000\n"
          ]
        }
      ]
    },
    {
      "cell_type": "code",
      "source": [
        "plt.plot(x, y, marker='o', linestyle='-')\n",
        "\n",
        "plt.xlabel('X')\n",
        "plt.ylabel('Y')\n",
        "plt.title('Plot of X and Y Points')\n",
        "\n",
        "plt.show()"
      ],
      "metadata": {
        "colab": {
          "base_uri": "https://localhost:8080/",
          "height": 472
        },
        "id": "98cZSH3p-A3_",
        "outputId": "68bb3235-af91-425b-81f6-39f5c5075a13"
      },
      "execution_count": 241,
      "outputs": [
        {
          "output_type": "display_data",
          "data": {
            "text/plain": [
              "<Figure size 640x480 with 1 Axes>"
            ],
            "image/png": "[encoded data removed]"
          },
          "metadata": {}
        }
      ]
    },
    {
      "cell_type": "markdown",
      "source": [
        "##Conclusion\n",
        "\n",
        "We have smaller initial vocabulary size in the Russian dataset vocab, only 48 symbols compared to 138 symbols in tweets vocab.\n",
        "\n",
        "This is because tweets corpus contains not only Latin letters but Cyrillic as well and many more others, whereas Russian corpus contains only Cyrillic letters.\n",
        "\n",
        "But that actually does not matter because pairs are only formed from Latin letters anyway because Cyrillic letters are almost not present in the tweets corpus.\n",
        "\n",
        "The average length was initially almost 3 times larger in case of tweets. But with Russian corpus average length decreased a bit more. This is probably because the Russian corpus didn't have complicated and rare words that could be seen in tweets @aliases. And also Russian corpus didn't have links which enabled the BPE algorithm to be more efficient.\n",
        "\n",
        "With tweets corpus average length went from 102 to 40 (39% of initial length).\n",
        "\n",
        "With Russian corpus average length went from 34 to 11 (33% of initial length)."
      ],
      "metadata": {
        "id": "erRlaWrWw4Ks"
      }
    }
  ],
  "metadata": {
    "colab": {
      "provenance": []
    },
    "kernelspec": {
      "display_name": "Python 3",
      "name": "python3"
    },
    "language_info": {
      "name": "python"
    }
  },
  "nbformat": 4,
  "nbformat_minor": 0
}